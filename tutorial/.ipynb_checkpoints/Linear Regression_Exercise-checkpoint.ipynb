{
 "cells": [
  {
   "cell_type": "markdown",
   "metadata": {},
   "source": [
    "# Linear Regression Exercise"
   ]
  },
  {
   "cell_type": "code",
   "execution_count": 220,
   "metadata": {},
   "outputs": [],
   "source": [
    "import numpy as np\n",
    "import matplotlib.pyplot as plt\n",
    "\n",
    "%matplotlib inline"
   ]
  },
  {
   "cell_type": "code",
   "execution_count": 221,
   "metadata": {
    "jupyter": {
     "outputs_hidden": false
    }
   },
   "outputs": [],
   "source": [
    "# Generating our data.\n",
    "\n",
    "X = np.linspace(1.0, 10.0, 100)[:, np.newaxis]\n",
    "Y = np.sin(X) + 0.1 * np.power(X, 2) + 0.5 * np.random.randn(100, 1)\n",
    "X /= np.max(X)\n",
    "\n",
    "\n",
    "X = np.hstack((np.ones_like(X), X))"
   ]
  },
  {
   "cell_type": "code",
   "execution_count": 222,
   "metadata": {},
   "outputs": [],
   "source": [
    "order = np.random.permutation(len(X))\n",
    "portion = 20"
   ]
  },
  {
   "cell_type": "code",
   "execution_count": 224,
   "metadata": {},
   "outputs": [],
   "source": [
    "\n",
    "X = [X[i] for i in order]\n",
    "Y = [Y[i] for i in order]"
   ]
  },
  {
   "cell_type": "code",
   "execution_count": 225,
   "metadata": {
    "jupyter": {
     "outputs_hidden": false
    }
   },
   "outputs": [],
   "source": [
    "\"\"\"\n",
    "    Split your data into train and test using the order and permutation variable\n",
    "\"\"\"\n",
    "\n",
    "\n",
    "train_x = np.array(X[:len(X)-20])\n",
    "train_y = np.array(Y[:len(Y)-20])\n",
    "\n",
    "test_x = np.array(X[20:])\n",
    "test_y = np.array(Y[20:])"
   ]
  },
  {
   "cell_type": "code",
   "execution_count": 367,
   "metadata": {
    "jupyter": {
     "outputs_hidden": false
    }
   },
   "outputs": [],
   "source": [
    "def get_gradient(w, x, y):\n",
    "    \"\"\"\n",
    "        Enter code for error, mse and gradient\n",
    "    \"\"\"\n",
    "    y_estimate = x.dot(w).flatten()\n",
    "    error = y.flatten() - y_estimate\n",
    "    mse = 1/(len(x)) * np.sum(np.square(error))\n",
    "    gradient = -1/len(x)* np.dot(np.transpose(x),error)\n",
    "    return gradient, mse"
   ]
  },
  {
   "cell_type": "code",
   "execution_count": null,
   "metadata": {},
   "outputs": [],
   "source": []
  },
  {
   "cell_type": "code",
   "execution_count": 368,
   "metadata": {
    "jupyter": {
     "outputs_hidden": false
    }
   },
   "outputs": [
    {
     "name": "stdout",
     "output_type": "stream",
     "text": [
      "Iterations: 0 -Error : 0.000000\n",
      "Iterations: 100 -Error : 0.000000\n",
      "Iterations: 200 -Error : 0.000000\n",
      "Iterations: 300 -Error : 0.000000\n",
      "Iterations: 400 -Error : 0.000000\n",
      "Iterations: 500 -Error : 0.000000\n",
      "Iterations: 600 -Error : 0.000000\n",
      "Iterations: 700 -Error : 0.000000\n",
      "Iterations: 800 -Error : 0.000000\n",
      "Iterations: 900 -Error : 0.000000\n",
      "Iterations: 1000 -Error : 0.000000\n",
      "Iterations: 1100 -Error : 0.000000\n",
      "Iterations: 1200 -Error : 0.000000\n",
      "Iterations: 1300 -Error : 0.000000\n",
      "Iterations: 1400 -Error : 0.000000\n",
      "Iterations: 1500 -Error : 0.000000\n",
      "Iterations: 1600 -Error : 0.000000\n",
      "Iterations: 1700 -Error : 0.000000\n",
      "Iterations: 1800 -Error : 0.000000\n",
      "Iterations: 1900 -Error : 0.000000\n",
      "Iterations: 2000 -Error : 0.000000\n",
      "Iterations: 2100 -Error : 0.000000\n",
      "Iterations: 2200 -Error : 0.000000\n",
      "Iterations: 2300 -Error : 0.000000\n",
      "Iterations: 2400 -Error : 0.000000\n",
      "Iterations: 2500 -Error : 0.000000\n",
      "Iterations: 2600 -Error : 0.000000\n",
      "Iterations: 2700 -Error : 0.000000\n",
      "Iterations: 2800 -Error : 0.000000\n",
      "Iterations: 2900 -Error : 0.000000\n",
      "Iterations: 3000 -Error : 0.000000\n",
      "Iterations: 3100 -Error : 0.000000\n",
      "Iterations: 3200 -Error : 0.000000\n",
      "Iterations: 3300 -Error : 0.000000\n",
      "Iterations: 3400 -Error : 0.000000\n",
      "Iterations: 3500 -Error : 0.000000\n",
      "Iterations: 3600 -Error : 0.000000\n",
      "Iterations: 3700 -Error : 0.000000\n",
      "Iterations: 3800 -Error : 0.000000\n",
      "Iterations: 3900 -Error : 0.000000\n",
      "Iterations: 4000 -Error : 0.000000\n",
      "Iterations: 4100 -Error : 0.000000\n",
      "Iterations: 4200 -Error : 0.000000\n",
      "Iterations: 4300 -Error : 0.000000\n",
      "Iterations: 4400 -Error : 0.000000\n",
      "Iterations: 4500 -Error : 0.000000\n",
      "Iterations: 4600 -Error : 0.000000\n",
      "Iterations: 4700 -Error : 0.000000\n",
      "Iterations: 4800 -Error : 0.000000\n",
      "Iterations: 4900 -Error : 0.000000\n",
      "Iterations: 5000 -Error : 0.000000\n",
      "Iterations: 5100 -Error : 0.000000\n",
      "Iterations: 5200 -Error : 0.000000\n",
      "Iterations: 5300 -Error : 0.000000\n",
      "Iterations: 5400 -Error : 0.000000\n",
      "Iterations: 5500 -Error : 0.000000\n",
      "Iterations: 5600 -Error : 0.000000\n",
      "Iterations: 5700 -Error : 0.000000\n",
      "Iterations: 5800 -Error : 0.000000\n",
      "Iterations: 5900 -Error : 0.000000\n",
      "Iterations: 6000 -Error : 0.000000\n",
      "Iterations: 6100 -Error : 0.000000\n",
      "Iterations: 6200 -Error : 0.000000\n",
      "Iterations: 6300 -Error : 0.000000\n",
      "Iterations: 6400 -Error : 0.000000\n",
      "Iterations: 6500 -Error : 0.000000\n",
      "Iterations: 6600 -Error : 0.000000\n",
      "Iterations: 6700 -Error : 0.000000\n",
      "Iterations: 6800 -Error : 0.000000\n",
      "Iterations: 6900 -Error : 0.000000\n",
      "Iterations: 7000 -Error : 0.000000\n",
      "Iterations: 7100 -Error : 0.000000\n",
      "Iterations: 7200 -Error : 0.000000\n",
      "Iterations: 7300 -Error : 0.000000\n",
      "Iterations: 7400 -Error : 0.000000\n",
      "Iterations: 7500 -Error : 0.000000\n",
      "Iterations: 7600 -Error : 0.000000\n",
      "Iterations: 7700 -Error : 0.000000\n",
      "Iterations: 7800 -Error : 0.000000\n",
      "Iterations: 7900 -Error : 0.000000\n",
      "Iterations: 8000 -Error : 0.000000\n",
      "Iterations: 8100 -Error : 0.000000\n",
      "Iterations: 8200 -Error : 0.000000\n",
      "Iterations: 8300 -Error : 0.000000\n",
      "Iterations: 8400 -Error : 0.000000\n",
      "Iterations: 8500 -Error : 0.000000\n",
      "Iterations: 8600 -Error : 0.000000\n",
      "Iterations: 8700 -Error : 0.000000\n",
      "Iterations: 8800 -Error : 0.000000\n",
      "Iterations: 8900 -Error : 0.000000\n",
      "Iterations: 9000 -Error : 0.000000\n",
      "Iterations: 9100 -Error : 0.000000\n",
      "Iterations: 9200 -Error : 0.000000\n",
      "Iterations: 9300 -Error : 0.000000\n",
      "Iterations: 9400 -Error : 0.000000\n",
      "Iterations: 9500 -Error : 0.000000\n",
      "Iterations: 9600 -Error : 0.000000\n",
      "Iterations: 9700 -Error : 0.000000\n",
      "Iterations: 9800 -Error : 0.000000\n",
      "Iterations: 9900 -Error : 0.000000\n",
      "('w =', array([-2.07028316, 10.80949508]))\n",
      "('Test Cost =', 0.0)\n"
     ]
    }
   ],
   "source": [
    "w = np.random.randn(2)\n",
    "alpha = 1e-3\n",
    "\n",
    "\"\"\"\n",
    "    Using the get_gradient function, run the Linear regression\n",
    "    use iteration of 10000\n",
    "\"\"\"\n",
    "for i in range(10000):\n",
    "    gradient, error = get_gradient(w,train_x,train_y)\n",
    "    w_new = w - (alpha*gradient)\n",
    "    if i% 100 == 0:\n",
    "        print(\"Iterations: %d -Error : %f\" %(i, error))\n",
    "        \n",
    "    w = w_new ## Change to your value\n",
    "\n",
    "print(\"w =\", w)\n",
    "print( \"Test Cost =\", get_gradient(w, test_x, test_y)[1])"
   ]
  },
  {
   "cell_type": "code",
   "execution_count": 369,
   "metadata": {},
   "outputs": [],
   "source": [
    "X = np.array(X)\n",
    "Y = np.array(Y)\n"
   ]
  },
  {
   "cell_type": "markdown",
   "metadata": {},
   "source": [
    "Plotting the Model we obtained"
   ]
  },
  {
   "cell_type": "code",
   "execution_count": 370,
   "metadata": {
    "jupyter": {
     "outputs_hidden": false
    }
   },
   "outputs": [
    {
     "data": {
      "image/png": "[encoded data removed]",
      "text/plain": [
       "<Figure size 432x288 with 1 Axes>"
      ]
     },
     "metadata": {
      "needs_background": "light"
     },
     "output_type": "display_data"
    }
   ],
   "source": [
    "plt.plot(X[:,1], X.dot(w), c='g', label='Model')\n",
    "plt.scatter(train_x[:,1], train_y, c='b', label='Train Set')\n",
    "plt.scatter(test_x[:,1], test_y, c='r', label='Test Set')\n",
    "plt.grid()\n",
    "plt.legend(loc='best')\n",
    "plt.xlabel('X')\n",
    "plt.ylabel('Y')\n",
    "plt.show()"
   ]
  },
  {
   "cell_type": "markdown",
   "metadata": {},
   "source": [
    "Generate contour plot of the cost function"
   ]
  },
  {
   "cell_type": "code",
   "execution_count": 371,
   "metadata": {
    "jupyter": {
     "outputs_hidden": false
    }
   },
   "outputs": [
    {
     "data": {
      "image/png": "[encoded data removed]",
      "text/plain": [
       "<Figure size 432x288 with 1 Axes>"
      ]
     },
     "metadata": {
      "needs_background": "light"
     },
     "output_type": "display_data"
    }
   ],
   "source": [
    "w1 = np.linspace(-w[1]*3, w[1]*3, 300)\n",
    "w0 = np.linspace(-w[0]*3, w[0]*3, 300)\n",
    "J_vals = np.zeros(shape=(w1.size, w0.size))\n",
    "\n",
    "for t1, element in enumerate(w1):\n",
    "    for t2, element2 in enumerate(w0):\n",
    "        wT = [0, 0]\n",
    "        wT[1] = element\n",
    "        wT[0] = element2\n",
    "        J_vals[t1, t2] = get_gradient(wT, train_x, train_y)[1]\n",
    "\n",
    "plt.scatter(w[0], w[1], marker='*', color='r', s=40, label='Solution Found')\n",
    "CS = plt.contour(w0, w1, J_vals, np.logspace(-10,10,50), label='Cost Function')\n",
    "plt.clabel(CS, inline=1, fontsize=10)\n",
    "plt.title(\"Contour Plot of Cost Function\")\n",
    "plt.xlabel(\"w0\")\n",
    "plt.ylabel(\"w1\")\n",
    "plt.legend(loc='best')\n",
    "plt.show()"
   ]
  },
  {
   "cell_type": "markdown",
   "metadata": {},
   "source": [
    "Extra Exercises.\n",
    "\n",
    "Describe what you see in the both diagrams you have."
   ]
  },
  {
   "cell_type": "markdown",
   "metadata": {},
   "source": [
    "1. for a stright line model it has a good approximation\n",
    "2. "
   ]
  }
 ],
 "metadata": {
  "kernelspec": {
   "display_name": "Python 2",
   "language": "python",
   "name": "python2"
  },
  "language_info": {
   "codemirror_mode": {
    "name": "ipython",
    "version": 2
   },
   "file_extension": ".py",
   "mimetype": "text/x-python",
   "name": "python",
   "nbconvert_exporter": "python",
   "pygments_lexer": "ipython2",
   "version": "2.7.16"
  }
 },
 "nbformat": 4,
 "nbformat_minor": 4
}
